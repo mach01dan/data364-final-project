{
 "cells": [
  {
   "cell_type": "markdown",
   "id": "0de7be73",
   "metadata": {},
   "source": [
    "#  DATA 364 Final Project Part 2 - Automatic Stock Analysis Engine"
   ]
  },
  {
   "cell_type": "markdown",
   "id": "97461a0e",
   "metadata": {},
   "source": [
    "## Introduction"
   ]
  },
  {
   "cell_type": "markdown",
   "id": "0469dcd7",
   "metadata": {},
   "source": [
    "Our project aims to develop an automated stock trading algorithm that leverages key technical indicators, specifically Relative Strength Index (RSI), momentum, and moving average crossovers. This algorithm will provide traders with an efficient tool to make informed buy and sell decisions in financial markets. By combining these indicators, our system seeks to capture valuable trading opportunities and enhance portfolio performance.\n"
   ]
  },
  {
   "cell_type": "markdown",
   "id": "77f9daea",
   "metadata": {},
   "source": [
    "## Possible Data Sources"
   ]
  },
  {
   "cell_type": "markdown",
   "id": "f89cd844",
   "metadata": {},
   "source": [
    "We initially looked at several different methods of retreiving our data, including web scraping, pulling from premade datasets, and using various APIs. We quickly ruled out using premade datasets because we wanted to pull current stock information so our tool would be useful in analyzing stocks in the current market conditions. We also tried using web scraping originally on Yahoo Finance and Google Finance but ran into issues with both platforms. Yahoo Finance used to be a great solution for scraping data since it was formatted in HTML that was fast and easy to parse using libraries like Beautiful Soup. However, since last year, they changed their platform to make it very challenging to scrape information, requireing the use of an application like Selenium. \n",
    "\n",
    "Similarly, Google Finance is very sensitive to web scraping and only allows requests every 60 seconds, limiting the amount of stocks you can analyze and making the overall user experience unsatisfactory. We eneded up using Yahoo Finance's API, which provides quick and up-to-date data in a dataframe that is ready for analysis. This method allows us to retrieve the most current data so the user will always get the most current information for their analysis. \n",
    "\n",
    "We are also using the Alpha Vantage API to retrieve real-time stock information when the market is open for additional information throughout the day. Finally, we are using the News API (NewsAPI.org) that will search for the top news articles for the given company (based on the stock ticker symbol) and display the top five articles for the user to read and gain better awareness of how the company is performing any pertinent inforamtion that may be affecting the stock price. "
   ]
  },
  {
   "cell_type": "markdown",
   "id": "e9cf0545",
   "metadata": {},
   "source": [
    "## Extract Data"
   ]
  },
  {
   "cell_type": "code",
   "execution_count": null,
   "id": "0cd277ab",
   "metadata": {},
   "outputs": [],
   "source": [
    "#Import packages\n",
    "import streamlit as st\n",
    "from datetime import date, time, datetime\n",
    "import yfinance as yf\n",
    "from prophet import Prophet\n",
    "import requests\n",
    "from prophet.plot import plot_plotly\n",
    "from plotly import graph_objs as go\n",
    "import pandas as pd\n",
    "import ta"
   ]
  },
  {
   "cell_type": "code",
   "execution_count": null,
   "id": "72d18b41",
   "metadata": {},
   "outputs": [],
   "source": [
    "#Set start and end dates. The start date can be configured to be any date in the past, arbitrarily set to 2015-01-01. \n",
    "START = \"2015-01-01\"\n",
    "TODAY = date.today().strftime(\"%Y-%m-%d\")"
   ]
  },
  {
   "cell_type": "code",
   "execution_count": null,
   "id": "f047307d",
   "metadata": {},
   "outputs": [],
   "source": [
    "\n",
    "#Alpha Vantage API key\n",
    "realtime_api_key = 'IDKN0O488FIDEPVR'\n",
    "\n",
    "#News API (https://newsapi.org/) Key\n",
    "news_api_key = '60d16a8cc922453896de9495f9b99b1d'"
   ]
  },
  {
   "cell_type": "code",
   "execution_count": null,
   "id": "bf6d710f",
   "metadata": {},
   "outputs": [],
   "source": [
    "# Function to check if the market is currently open\n",
    "def is_market_open():\n",
    "    now = datetime.now().time()\n",
    "    market_open_time = time(9, 30)\n",
    "    market_close_time = time(16, 0)\n",
    "    return market_open_time <= now <= market_close_time"
   ]
  },
  {
   "cell_type": "markdown",
   "id": "ff5e4e0b",
   "metadata": {},
   "source": [
    "### API 1 - Real Time Stock Information"
   ]
  },
  {
   "cell_type": "markdown",
   "id": "2084a2fd",
   "metadata": {},
   "source": [
    "This function will retrieve the current stock information if the market is open using the Alpha Vantage API. If the market is closed, it will display a warning. "
   ]
  },
  {
   "cell_type": "code",
   "execution_count": null,
   "id": "95aedbfc",
   "metadata": {
    "lines_to_next_cell": 1
   },
   "outputs": [],
   "source": [
    "# Function to get real-time stock data\n",
    "\n",
    "def get_real_time_stock_data(api_key, symbol):\n",
    "    # Check if the stock market is open\n",
    "    if is_market_open():\n",
    "        try:\n",
    "            # Construct the URL for the API request\n",
    "            realtime_stock_url = f'https://www.alphavantage.co/query?function=TIME_SERIES_INTRADAY&symbol={symbol}&interval=5min&apikey={api_key}'\n",
    "            \n",
    "            # Send a GET request to the API\n",
    "            response = requests.get(realtime_stock_url)\n",
    "            \n",
    "            # Parse the JSON response to a Python dictionary\n",
    "            stock_data = response.json()\n",
    "            \n",
    "            # Return the 'Time Series (5min)' data if available, else return an empty dictionary\n",
    "            return stock_data.get('Time Series (5min)', {})\n",
    "        except Exception as e:\n",
    "            # If any error occurs during the process, return None\n",
    "            return None\n",
    "    else:\n",
    "        # If the market is not open, return None\n",
    "        return None"
   ]
  },
  {
   "cell_type": "markdown",
   "id": "7db634f2",
   "metadata": {},
   "source": [
    "### API 2 - Current News Topics"
   ]
  },
  {
   "cell_type": "markdown",
   "id": "b678a63e",
   "metadata": {},
   "source": [
    "This function will search for the top news stories for a company using the News API (from the ticket symbol provided by the user) and display the top five stories. "
   ]
  },
  {
   "cell_type": "code",
   "execution_count": null,
   "id": "f518ba06",
   "metadata": {},
   "outputs": [],
   "source": [
    "# Define a function to fetch top news stories\n",
    "def get_top_news(selected_stock):\n",
    "    # Construct the URL for the news API request\n",
    "    news_url = f'https://newsapi.org/v2/everything?q={selected_stock}&apiKey={news_api_key}'\n",
    "\n",
    "    try:\n",
    "        # Send a GET request to the news API\n",
    "        response = requests.get(news_url)\n",
    "        # Parse the JSON response to a Python dictionary\n",
    "        news_data = response.json()\n",
    "\n",
    "        # Check if the API request was successful and if there are any news articles\n",
    "        if news_data.get('status') == 'ok' and news_data.get('totalResults') > 0:\n",
    "            # Get the list of news articles\n",
    "            articles = news_data['articles']\n",
    "\n",
    "            # Display the top news stories\n",
    "            for article in articles[:5]:  # Display the top 5 news stories\n",
    "                st.markdown(f\"**Title:** {article['title']}\")\n",
    "                st.write(f\"**Description:** {article['description']}\")\n",
    "                st.markdown(f\"**Source:** {article['source']['name']}\")\n",
    "                st.write(f\"**Published At:** {article['publishedAt']}\")\n",
    "                st.write(f\"**URL:** {article['url']}\")\n",
    "                st.write(\"---\")\n",
    "        else:\n",
    "            # If there are no news articles, display a warning message\n",
    "            st.warning(\"No news available for this stock.\")\n",
    "\n",
    "    except Exception as e:\n",
    "        # If any error occurs during the process, display an error message\n",
    "        st.error(f\"An error occurred while fetching news: {e}\")"
   ]
  },
  {
   "cell_type": "markdown",
   "id": "79fa25c8",
   "metadata": {},
   "source": [
    "### API 3 - Historical Stock Information"
   ]
  },
  {
   "cell_type": "markdown",
   "id": "d5b7ede5",
   "metadata": {},
   "source": [
    "This function will retrieve and load the historical stock information using the Yahoo Finance API."
   ]
  },
  {
   "cell_type": "code",
   "execution_count": null,
   "id": "a17d81ac",
   "metadata": {},
   "outputs": [],
   "source": [
    "# Load the stock data from Yahoo Finance\n",
    "def load_stock_data(selected_stock):\n",
    "    try:\n",
    "        # Use yfinance to download the stock data from the start date to today\n",
    "        data = yf.download(selected_stock, START, TODAY)\n",
    "        # Reset the index of the DataFrame\n",
    "        data.reset_index(inplace=True)\n",
    "        # Return the DataFrame\n",
    "        return data\n",
    "    except Exception as e:\n",
    "        # If any error occurs during the process, display an error message and return None\n",
    "        st.error(f\"An error occurred: {e}\")\n",
    "        return None"
   ]
  },
  {
   "cell_type": "markdown",
   "id": "5fcadda2",
   "metadata": {},
   "source": [
    "**Please note these code functions are taken from our main code project file \"main.py\". If you would like to run our stock engine, please refer to that file and follow the instructions at the top. This is because our front-end (GUI) does not run within Jupyter Notebook files.**"
   ]
  },
  {
   "cell_type": "markdown",
   "id": "d7f1fea9",
   "metadata": {},
   "source": [
    "## Conclusion"
   ]
  },
  {
   "cell_type": "markdown",
   "id": "cf239587",
   "metadata": {},
   "source": [
    "There are several key takeaways that can benefit future students who take on similar work. This first is how to leverage and implement the resources of available APIs, specifically Yahoo Finance, Alpha Vantage, and News. Using APIs ended up being significantly simpler and easily repeatable for different stocks, giving us more flexibility in the ways we could implement our engine. We were able to switch to a just-in-time model as opposed to downloading information about thousands of stocks at once. One of the biggest takeaways was the importance of error handling which proved essential to a smooth extraction process with the possibility of network issues or API failures. We had several instances when the APIs behaved in ways that we didn't expect or that may have crashed our program. An example was our real-time stock API calls. When we originally coded that portion, it was after the market closed, and therefore we kept having errors with the API giving us no information. We discovered the API didn't know how to handle giving information when the market was closed, so we had to code a function to check first before sending the API calls. Finally, we learned about fetching textual data from external news sources. This included parsing the JSON response to extract the relevant information for users to stay informed about their selected stock. This was handled in a different way than our other two data sources and we had to parse the information out in order to display it in a suitable manner. \n",
    "\n",
    "Overall, we've learned a lot in this part of the project and are excited to continue developing. We have already built our frontend platform using Streamlit and have some base functionality set-up. We will continue to implement new features, add more buy/sell indicators, and improve our prediction accuracy."
   ]
  },
  {
   "cell_type": "markdown",
   "id": "ec419449",
   "metadata": {},
   "source": [
    "## Documentation Statement"
   ]
  },
  {
   "cell_type": "markdown",
   "id": "c9dd0fa3",
   "metadata": {},
   "source": [
    "We extensively used the documentation for Yahoo Finance, Alpha Vantage, and News: \n",
    "https://pypi.org/project/yfinance/\n",
    "https://www.alphavantage.co/documentation/\n",
    "https://newsapi.org/docs\n",
    "\n",
    "\n",
    "We used Streamlit's documentation in our frontend development: https://docs.streamlit.io/\n",
    "\n",
    "We also used Investopedia to get the formulas for calulating the MACD, momentum, and RSI indicators: https://www.investopedia.com/terms/\n",
    "\n",
    "Finally, we used Github Copilot to help comment our code functions. "
   ]
  }
 ],
 "metadata": {
  "jupytext": {
   "cell_metadata_filter": "-all",
   "main_language": "python",
   "notebook_metadata_filter": "-all"
  },
  "kernelspec": {
   "display_name": "base",
   "language": "python",
   "name": "python3"
  },
  "language_info": {
   "name": "python",
   "version": "3.11.5"
  }
 },
 "nbformat": 4,
 "nbformat_minor": 5
}
